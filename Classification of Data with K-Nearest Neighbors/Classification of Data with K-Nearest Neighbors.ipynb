{
 "cells": [
  {
   "cell_type": "markdown",
   "metadata": {},
   "source": [
    "# Lab Statement\n",
    "This lab introduces the K-Nearest Neighbor classification algoritm, which is one of the most well known classification methods. This lab is completed using the UCI Iris Flower Dataset."
   ]
  },
  {
   "cell_type": "markdown",
   "metadata": {},
   "source": [
    "# Objectives\n",
    "\n",
    "- Create and use Machine Learning Modeles with SciKit Learn\n",
    "- Learn more advanced NumPy (Numerical Python) features\n",
    "- Learn how to import data from remote websties (UCI Machine Learning Datasets)\n",
    "- Learn how to import and use SciKit Learn built-in datasets (Iris Flower Dataset)\n",
    "- Train-Test Split of data with SciKit Learn\n",
    "- Perform Classification with SciKit Learn\n",
    "- Create Predictive Models\n",
    "- Perform Model Evaluation\n",
    "    - Model Source and Accuracy\n",
    "- Decision Boundary with MatPlotLib"
   ]
  },
  {
   "cell_type": "markdown",
   "metadata": {},
   "source": [
    "# Introduction"
   ]
  },
  {
   "cell_type": "markdown",
   "metadata": {},
   "source": [
    "### Supervised Learning: Classification"
   ]
  },
  {
   "cell_type": "markdown",
   "metadata": {},
   "source": [
    "**Supervised Learning** is the process of building classifcation models using data instances of known origins.\n",
    "\n",
    "Classification is probably the best understood of all data science strategies. Classification tasks have three common characteristics:\n",
    "    - Learning is supervised\n",
    "    - The dependent variable is categorical\n",
    "    - The emphasis is on building models able to assign new instances to one of a set of well-defined classes"
   ]
  },
  {
   "cell_type": "markdown",
   "metadata": {},
   "source": [
    "### Introducing the Iris Dataset\n",
    "- The dataset consists of 50 samples of 3 different species of iris (150 samples total)\n",
    "- Measurements(cm): sepal length, sepal width, petal length, petal width\n",
    "\n",
    "<img src=\"images/iris.png\" align=\"center\" width=200; height200>"
   ]
  },
  {
   "cell_type": "markdown",
   "metadata": {},
   "source": [
    "### Data and Problem Description\n",
    "Machine Learning on the Iris Dataset\n",
    "- The problem is framed as a supervised learning problem: Predict the species of an iris using the given measurements\n",
    "- Good (and popular!) dataset for machine learning because analysis and prediction is relatively easy"
   ]
  },
  {
   "cell_type": "markdown",
   "metadata": {},
   "source": [
    "# Preliminary Tasks"
   ]
  },
  {
   "cell_type": "markdown",
   "metadata": {},
   "source": [
    "### Import the Essentials"
   ]
  },
  {
   "cell_type": "code",
   "execution_count": 1,
   "metadata": {},
   "outputs": [],
   "source": [
    "%matplotlib inline\n",
    "import matplotlib.pyplot as plt\n",
    "import numpy as np"
   ]
  },
  {
   "cell_type": "markdown",
   "metadata": {},
   "source": [
    "### Load the Iris Flower Dataset into Pandas Dataframe"
   ]
  },
  {
   "cell_type": "code",
   "execution_count": 2,
   "metadata": {},
   "outputs": [],
   "source": [
    "import pandas as pd\n",
    "url = \"http://archive.ics.uci.edu/ml/machine-learning-databases/iris/iris.data\"\n",
    "names = ['sepal_length', 'sepal_width', 'petal_length', 'petal_width', 'class']\n",
    "iris_df = pd.read_csv(url, names=names)"
   ]
  },
  {
   "cell_type": "markdown",
   "metadata": {},
   "source": [
    "### Test to Confirm Data Is In"
   ]
  },
  {
   "cell_type": "code",
   "execution_count": 3,
   "metadata": {},
   "outputs": [
    {
     "data": {
      "text/html": [
       "<div>\n",
       "<style scoped>\n",
       "    .dataframe tbody tr th:only-of-type {\n",
       "        vertical-align: middle;\n",
       "    }\n",
       "\n",
       "    .dataframe tbody tr th {\n",
       "        vertical-align: top;\n",
       "    }\n",
       "\n",
       "    .dataframe thead th {\n",
       "        text-align: right;\n",
       "    }\n",
       "</style>\n",
       "<table border=\"1\" class=\"dataframe\">\n",
       "  <thead>\n",
       "    <tr style=\"text-align: right;\">\n",
       "      <th></th>\n",
       "      <th>sepal_length</th>\n",
       "      <th>sepal_width</th>\n",
       "      <th>petal_length</th>\n",
       "      <th>petal_width</th>\n",
       "      <th>class</th>\n",
       "    </tr>\n",
       "  </thead>\n",
       "  <tbody>\n",
       "    <tr>\n",
       "      <th>145</th>\n",
       "      <td>6.7</td>\n",
       "      <td>3.0</td>\n",
       "      <td>5.2</td>\n",
       "      <td>2.3</td>\n",
       "      <td>Iris-virginica</td>\n",
       "    </tr>\n",
       "    <tr>\n",
       "      <th>146</th>\n",
       "      <td>6.3</td>\n",
       "      <td>2.5</td>\n",
       "      <td>5.0</td>\n",
       "      <td>1.9</td>\n",
       "      <td>Iris-virginica</td>\n",
       "    </tr>\n",
       "    <tr>\n",
       "      <th>147</th>\n",
       "      <td>6.5</td>\n",
       "      <td>3.0</td>\n",
       "      <td>5.2</td>\n",
       "      <td>2.0</td>\n",
       "      <td>Iris-virginica</td>\n",
       "    </tr>\n",
       "    <tr>\n",
       "      <th>148</th>\n",
       "      <td>6.2</td>\n",
       "      <td>3.4</td>\n",
       "      <td>5.4</td>\n",
       "      <td>2.3</td>\n",
       "      <td>Iris-virginica</td>\n",
       "    </tr>\n",
       "    <tr>\n",
       "      <th>149</th>\n",
       "      <td>5.9</td>\n",
       "      <td>3.0</td>\n",
       "      <td>5.1</td>\n",
       "      <td>1.8</td>\n",
       "      <td>Iris-virginica</td>\n",
       "    </tr>\n",
       "  </tbody>\n",
       "</table>\n",
       "</div>"
      ],
      "text/plain": [
       "     sepal_length  sepal_width  petal_length  petal_width           class\n",
       "145           6.7          3.0           5.2          2.3  Iris-virginica\n",
       "146           6.3          2.5           5.0          1.9  Iris-virginica\n",
       "147           6.5          3.0           5.2          2.0  Iris-virginica\n",
       "148           6.2          3.4           5.4          2.3  Iris-virginica\n",
       "149           5.9          3.0           5.1          1.8  Iris-virginica"
      ]
     },
     "execution_count": 3,
     "metadata": {},
     "output_type": "execute_result"
    }
   ],
   "source": [
    "iris_df.tail()"
   ]
  },
  {
   "cell_type": "markdown",
   "metadata": {},
   "source": [
    "# A Quick Review..."
   ]
  },
  {
   "cell_type": "markdown",
   "metadata": {},
   "source": [
    "### Review of Machine Learning Terminology\n",
    " - Each row is an **observation** (also known as: instance, sample, record)\n",
    " - Each column is a **feature** (also known as: input, attribute, independent variable, predictor)"
   ]
  },
  {
   "cell_type": "markdown",
   "metadata": {},
   "source": [
    "### Classification vs. Regression\n",
    " - Each value we are predicting is the **response** (also known as: target, outcome, lable, dependent variable)\n",
    " - **Classification** is supervised learning in which the response is categorical\n",
    " - **Regression** is supervised learning in which the response is ordered and continuous"
   ]
  },
  {
   "cell_type": "markdown",
   "metadata": {},
   "source": [
    "### Classifying the Iris Dataset\n",
    " - How do we choose **which model to use** for our supervised learning taks?\n",
    " - How do we choose the **best tuning parameters** for that model?\n",
    " - How do we estimate the **likely performance of my model** on the out-of-sample data?"
   ]
  },
  {
   "cell_type": "markdown",
   "metadata": {},
   "source": [
    "### We answer the above by recalling our task and approach:\n",
    " - **Classification Task**: Prediciting the species of an unknown Iris Flower\n",
    " - **Approach**: We will start by using the KNN classification model with K=1 and K=5 (we will use logisictal regression and other models in future labs)\n",
    " - We will then train the model on a subset of the dataset (the training set)\n",
    " - Implement Model Evaluation Prodecures\n",
    "     - We will evalusate the **perfomance** of our model based on how well it classifies the test set (the data that remains after we train the model (the training set))\n",
    " - We will then use our model for prediction"
   ]
  },
  {
   "cell_type": "markdown",
   "metadata": {},
   "source": [
    "# Load the Iris Flower Dataset from SciKit-Learn"
   ]
  },
  {
   "cell_type": "markdown",
   "metadata": {},
   "source": [
    "### Load and Examine the Data"
   ]
  },
  {
   "cell_type": "code",
   "execution_count": 4,
   "metadata": {},
   "outputs": [],
   "source": [
    "from sklearn.datasets import load_iris\n",
    "iris = load_iris()"
   ]
  },
  {
   "cell_type": "markdown",
   "metadata": {},
   "source": [
    "This Iris Object that is returned by \"load_iris\" is a *Bunch Object* that is similar to a *Python Dictionary Object* and has **keys** and **values**."
   ]
  },
  {
   "cell_type": "code",
   "execution_count": 5,
   "metadata": {},
   "outputs": [
    {
     "name": "stdout",
     "output_type": "stream",
     "text": [
      "Keys of the Iris Dataset: \n",
      "dict_keys(['data', 'target', 'frame', 'target_names', 'DESCR', 'feature_names', 'filename'])\n"
     ]
    }
   ],
   "source": [
    "print('Keys of the Iris Dataset: \\n{}'.format(iris.keys()))"
   ]
  },
  {
   "cell_type": "markdown",
   "metadata": {},
   "source": [
    "The value of the key DESCR is a short description of the dataset (only some of the descritions are shown below)."
   ]
  },
  {
   "cell_type": "code",
   "execution_count": 6,
   "metadata": {},
   "outputs": [
    {
     "name": "stdout",
     "output_type": "stream",
     "text": [
      "\n",
      " .. _iris_dataset:\n",
      "\n",
      "Iris plants dataset\n",
      "--------------------\n",
      "\n",
      "**Data Set Characteristics:**\n",
      "\n",
      "    :Number of Instances: 150 (50 in each of three classes)\n",
      "    :Number of Attributes: 4 numeric, predictive attributes and the class\n",
      "    :Attribute Information:\n",
      "        - sepal length in cm\n",
      "        - sepal width in cm\n",
      "        - petal length in cm\n",
      "        - petal width in cm\n",
      "        - class:\n",
      "                - Iris-Setosa\n",
      "                - Iris-Versicolour\n",
      "                - Iris-Virginica\n",
      "              \n",
      "...\n"
     ]
    }
   ],
   "source": [
    "print('\\n', iris['DESCR'][:497] + '\\n...')"
   ]
  },
  {
   "cell_type": "markdown",
   "metadata": {},
   "source": [
    "The value of the key *target_names* is an array of strings containing the species of the flower that we want to predict:"
   ]
  },
  {
   "cell_type": "markdown",
   "metadata": {},
   "source": [
    "### Print the Encoding Scheme for Species: 0 = Setosa, 1 = Versicolor, 2 = Virginica"
   ]
  },
  {
   "cell_type": "code",
   "execution_count": 7,
   "metadata": {},
   "outputs": [
    {
     "name": "stdout",
     "output_type": "stream",
     "text": [
      "Target Names: ['setosa' 'versicolor' 'virginica']\n",
      "Data Type: <class 'numpy.ndarray'>\n"
     ]
    }
   ],
   "source": [
    "print('Target Names: {}'.format(iris.target_names))\n",
    "print('Data Type: {}'.format(type(iris.target_names)))"
   ]
  },
  {
   "cell_type": "markdown",
   "metadata": {},
   "source": [
    "### Print the Names of the Four Features"
   ]
  },
  {
   "cell_type": "code",
   "execution_count": 8,
   "metadata": {},
   "outputs": [
    {
     "name": "stdout",
     "output_type": "stream",
     "text": [
      "Feature Names :\n",
      " ['sepal length (cm)', 'sepal width (cm)', 'petal length (cm)', 'petal width (cm)']\n"
     ]
    }
   ],
   "source": [
    "print('Feature Names :\\n {}'.format(iris.feature_names))"
   ]
  },
  {
   "cell_type": "markdown",
   "metadata": {},
   "source": [
    "### Check the Shape of the Data"
   ]
  },
  {
   "cell_type": "code",
   "execution_count": 9,
   "metadata": {},
   "outputs": [
    {
     "name": "stdout",
     "output_type": "stream",
     "text": [
      "Shape of the Data: (150, 4)\n"
     ]
    }
   ],
   "source": [
    "print('Shape of the Data: {}'.format(iris.data.shape))"
   ]
  },
  {
   "cell_type": "markdown",
   "metadata": {},
   "source": [
    "### Print Integers Representing the Species of EACH Observation"
   ]
  },
  {
   "cell_type": "code",
   "execution_count": 10,
   "metadata": {},
   "outputs": [
    {
     "name": "stdout",
     "output_type": "stream",
     "text": [
      "[0 0 0 0 0 0 0 0 0 0 0 0 0 0 0 0 0 0 0 0 0 0 0 0 0 0 0 0 0 0 0 0 0 0 0 0 0\n",
      " 0 0 0 0 0 0 0 0 0 0 0 0 0 1 1 1 1 1 1 1 1 1 1 1 1 1 1 1 1 1 1 1 1 1 1 1 1\n",
      " 1 1 1 1 1 1 1 1 1 1 1 1 1 1 1 1 1 1 1 1 1 1 1 1 1 1 2 2 2 2 2 2 2 2 2 2 2\n",
      " 2 2 2 2 2 2 2 2 2 2 2 2 2 2 2 2 2 2 2 2 2 2 2 2 2 2 2 2 2 2 2 2 2 2 2 2 2\n",
      " 2 2]\n"
     ]
    }
   ],
   "source": [
    "print(iris.target)"
   ]
  },
  {
   "cell_type": "markdown",
   "metadata": {},
   "source": [
    "# Creating the Training and Testing Data to Use with Model\n",
    "The data has been loaded and we need to split it into a training and testing dataset. We will use all four columns (features) for both datasets. First, let's store the *features* in an array that we will call **X** and the *targets* (possible categoreis) into a single column array we call **y**."
   ]
  },
  {
   "cell_type": "code",
   "execution_count": 11,
   "metadata": {},
   "outputs": [
    {
     "name": "stdout",
     "output_type": "stream",
     "text": [
      "Class Labels: [0 1 2]\n",
      "Class Proportions: [50 50 50]\n"
     ]
    }
   ],
   "source": [
    "#We will use all 4 features of this dataset\n",
    "X, y = iris.data[:, :4], iris.target\n",
    "\n",
    "#Print(X)\n",
    "print('Class Labels:', np.unique(y))\n",
    "print('Class Proportions:', np.bincount(y))"
   ]
  },
  {
   "cell_type": "markdown",
   "metadata": {},
   "source": [
    "## Train/Test Split of Data\n",
    "SciKit Learn contains a function called the **train_test_split** function that will randomly shuffle the dataset and then splits it into two datasets: a **Training Set** used to build the model, and a **Test Set** to assess and evaluate how well the model works on unseen data (also called 'Out-of-Sample' data). The **train_test_split** function by default does a 75% train and 25% test split, but the split can be modified by tuning the parameters of the function as indicated below in the code."
   ]
  },
  {
   "cell_type": "markdown",
   "metadata": {},
   "source": [
    "### Import train_test_split, and Complete the Split"
   ]
  },
  {
   "cell_type": "code",
   "execution_count": 12,
   "metadata": {},
   "outputs": [],
   "source": [
    "from sklearn.model_selection import train_test_split\n",
    "X_train, X_test, y_train, y_test = train_test_split(\n",
    "    X, y, test_size = 0.25, random_state = 123,\n",
    "    stratify=y)"
   ]
  },
  {
   "cell_type": "markdown",
   "metadata": {},
   "source": [
    "### Print Class Labels and Proportions of y_train"
   ]
  },
  {
   "cell_type": "code",
   "execution_count": 13,
   "metadata": {},
   "outputs": [
    {
     "name": "stdout",
     "output_type": "stream",
     "text": [
      "Class Labels of y_train: [0 1 2]\n",
      "Class Proportions of y_train: [38 37 37]\n"
     ]
    }
   ],
   "source": [
    "print('Class Labels of y_train:', np.unique(y_train))\n",
    "print('Class Proportions of y_train:', np.bincount(y_train))"
   ]
  },
  {
   "cell_type": "markdown",
   "metadata": {},
   "source": [
    "It is a best practice to perform our split in such a way that our split reflects the labels in the data. In other words, we want labels to be split in a train and a test set as they are in the original dataset. So we use the **stratify** argument."
   ]
  },
  {
   "cell_type": "markdown",
   "metadata": {},
   "source": [
    "<img src =\"images/train_test_split.png\" align=\"center\" width=500; height500>"
   ]
  },
  {
   "cell_type": "markdown",
   "metadata": {},
   "source": [
    "What did this accomplish?\n",
    "   - Model can be trained and tested on **different data**\n",
    "   - Response values are known for the testing set, and thus **predictions can be evaluated**\n",
    "   - **Testing accuracy** is a better estimate than training accuracy of the out-of-sample performance"
   ]
  },
  {
   "cell_type": "markdown",
   "metadata": {},
   "source": [
    "### Check the Shapes of the Training and Testing Sets to Confirm Split"
   ]
  },
  {
   "cell_type": "code",
   "execution_count": 14,
   "metadata": {},
   "outputs": [
    {
     "name": "stdout",
     "output_type": "stream",
     "text": [
      "X_train Shape of the Data: (112, 4)\n",
      "y_train Shape of the Data: (112,)\n",
      "X_test Shape of the Data: (38, 4)\n",
      "y_test Shape of the Data: (38,)\n"
     ]
    }
   ],
   "source": [
    "print(\"X_train Shape of the Data: {}\".format(X_train.shape))\n",
    "print('y_train Shape of the Data: {}'.format(y_train.shape))\n",
    "print(\"X_test Shape of the Data: {}\".format(X_test.shape))\n",
    "print(\"y_test Shape of the Data: {}\".format(y_test.shape))"
   ]
  },
  {
   "cell_type": "markdown",
   "metadata": {},
   "source": [
    "# Building (Fitting) and Evaluating Models\n",
    "Let's build the actual machine learning models. There are several widely used classification algorithms avaiible in the SciKit-Learn package and three of the most popular ones are:\n",
    "\n",
    "   - K-Nearest Neighbors\n",
    "   - Logistic Regression\n",
    "   - Linear Support Vector Machine\n",
    "\n",
    "The machine learning models in SciKit-Learn are implemented in their own classes called **Estimator Classes**. Each model ahs its advantages, and we will have to use several to determine how well each model works. We do this by using the **Test Set** that we created earlier. Note that this data *was NOT* used to build (train) this model, but we do know what the species is (correct class labels) for each iris flower in the test set. Thus, we can make a prediction for each iris flower in the test data and compare it to its known class label (**known species**). We can measure how well the model works by compyting the model's  *accuracy*, which is the fraction of flowers for which the right species was predicted."
   ]
  },
  {
   "cell_type": "markdown",
   "metadata": {},
   "source": [
    "# Building a K-Nearest Neighbors Model in SciKit-Learn"
   ]
  },
  {
   "cell_type": "markdown",
   "metadata": {},
   "source": [
    "## K-Nearest Neighbors Fit (K=3)"
   ]
  },
  {
   "cell_type": "markdown",
   "metadata": {},
   "source": [
    "### Import the Essentials"
   ]
  },
  {
   "cell_type": "code",
   "execution_count": 15,
   "metadata": {},
   "outputs": [],
   "source": [
    "from sklearn.neighbors import KNeighborsClassifier\n",
    "from sklearn import metrics"
   ]
  },
  {
   "cell_type": "markdown",
   "metadata": {},
   "source": [
    "### Pick 3 Nearest Neighbors and Print Confirmation"
   ]
  },
  {
   "cell_type": "code",
   "execution_count": 16,
   "metadata": {},
   "outputs": [
    {
     "name": "stdout",
     "output_type": "stream",
     "text": [
      "KNeighborsClassifier(n_neighbors=3)\n"
     ]
    }
   ],
   "source": [
    "knn = KNeighborsClassifier(n_neighbors=3)\n",
    "print(knn)"
   ]
  },
  {
   "cell_type": "markdown",
   "metadata": {},
   "source": [
    "### Train the Model and Store Predictor in y_pred"
   ]
  },
  {
   "cell_type": "code",
   "execution_count": 17,
   "metadata": {},
   "outputs": [],
   "source": [
    "knn.fit(X_train, y_train)\n",
    "y_pred = knn.predict(X_test)"
   ]
  },
  {
   "cell_type": "markdown",
   "metadata": {},
   "source": [
    "### Print Test Set Predictions and Actual Values"
   ]
  },
  {
   "cell_type": "code",
   "execution_count": 18,
   "metadata": {},
   "outputs": [
    {
     "name": "stdout",
     "output_type": "stream",
     "text": [
      "Test Set Predictions: \n",
      "[2 0 1 2 0 0 1 2 1 0 1 0 2 2 1 2 0 0 0 0 0 0 1 2 0 2 2 2 2 1 1 2 1 1 2 1 2\n",
      " 1]\n",
      "Actual True Values: \n",
      "[2 0 1 2 0 0 1 2 1 0 1 0 2 2 1 2 0 0 0 0 0 0 1 2 0 1 2 2 2 1 1 2 1 1 2 1 2\n",
      " 1]\n"
     ]
    }
   ],
   "source": [
    "print(\"Test Set Predictions: \\n{}\".format(y_pred))\n",
    "print(\"Actual True Values: \\n{}\".format(y_test))"
   ]
  },
  {
   "cell_type": "markdown",
   "metadata": {},
   "source": [
    "# Evaluating the K-Nearest Neighbors Model\n",
    "We can evaluate the models's performance in several ways. Two of the simplest ways are illustrated below."
   ]
  },
  {
   "cell_type": "markdown",
   "metadata": {},
   "source": [
    "### 1. Use the built-in scoring method"
   ]
  },
  {
   "cell_type": "markdown",
   "metadata": {},
   "source": [
    "We do this by sending the test sets (both the test features and the associated test labels (categories, classes)"
   ]
  },
  {
   "cell_type": "code",
   "execution_count": 19,
   "metadata": {},
   "outputs": [
    {
     "name": "stdout",
     "output_type": "stream",
     "text": [
      "Test Accuracy: 0.97\n"
     ]
    }
   ],
   "source": [
    "print(\"Test Accuracy: {0:0.2f}\".format(knn.score(X_test, y_test)))"
   ]
  },
  {
   "cell_type": "markdown",
   "metadata": {},
   "source": [
    "### 2. Use the SciKit-Learn metrics module we imported"
   ]
  },
  {
   "cell_type": "markdown",
   "metadata": {},
   "source": [
    "It has a method calssed **accuracy_score** that compares what the model preducts with the true values we expected for associated test labels (categories, classes)"
   ]
  },
  {
   "cell_type": "code",
   "execution_count": 20,
   "metadata": {},
   "outputs": [
    {
     "name": "stdout",
     "output_type": "stream",
     "text": [
      "Model's Predictive Accuracy for k = 3 is: 0.97 \n",
      "\n"
     ]
    }
   ],
   "source": [
    "k=knn.n_neighbors\n",
    "print(\"Model's Predictive Accuracy for k = {0} is: {1:0.2f} \\n\".format(k, metrics.accuracy_score(y_test, y_pred)))"
   ]
  },
  {
   "cell_type": "markdown",
   "metadata": {},
   "source": [
    "# Making New Predictions"
   ]
  },
  {
   "cell_type": "markdown",
   "metadata": {},
   "source": [
    "Let's make a prediction using this model on the new data that the model hasn't seen but we know the class lables. We test it on an iris flower with the following features:\n",
    "\n",
    " - **Sepal Length = 5 cm**\n",
    " - **Sepal Width = 2.9 cm**\n",
    " - **Petal Length = 1 cm**\n",
    " - **Petal Width = 0.2 cm**\n",
    " \n",
    "We will put this data into a NumPy array and calculate its shape (1 row) multiplied by its features (4 features)"
   ]
  },
  {
   "cell_type": "markdown",
   "metadata": {},
   "source": [
    "### Reshaping An Array and Printing to Confirm"
   ]
  },
  {
   "cell_type": "code",
   "execution_count": 21,
   "metadata": {},
   "outputs": [
    {
     "name": "stdout",
     "output_type": "stream",
     "text": [
      "X_new.shape is: (1, 4)\n"
     ]
    }
   ],
   "source": [
    "X_new = np.array ([[5, 2.9, 1, 0.2]])\n",
    "print('X_new.shape is: {}'.format(X_new.shape))"
   ]
  },
  {
   "cell_type": "markdown",
   "metadata": {},
   "source": [
    "To make a prediction, let's again call the *predict method* of the K-Nearest Neighbors object:"
   ]
  },
  {
   "cell_type": "code",
   "execution_count": 22,
   "metadata": {},
   "outputs": [
    {
     "name": "stdout",
     "output_type": "stream",
     "text": [
      "Prediction: [0]\n",
      "Predicted Target Name: ['setosa']\n"
     ]
    }
   ],
   "source": [
    "prediction = knn.predict(X_new)\n",
    "print(\"Prediction: {}\".format(prediction))\n",
    "print(\"Predicted Target Name: {}\".format(iris[\"target_names\"][prediction]))"
   ]
  },
  {
   "cell_type": "markdown",
   "metadata": {},
   "source": [
    "So, based on our analysis of the model's test set accuracy of 97% (which means that it made the right prediction 97% of the time), this high level of accuracy may be good enough to use for classifying unknown iris species!"
   ]
  },
  {
   "cell_type": "markdown",
   "metadata": {},
   "source": [
    "# Creating a K-NN Predictive Model for Multiple K's"
   ]
  },
  {
   "cell_type": "markdown",
   "metadata": {},
   "source": [
    "### K-Nearest Neighbor Fit for K=1 and K=5"
   ]
  },
  {
   "cell_type": "code",
   "execution_count": 23,
   "metadata": {},
   "outputs": [
    {
     "name": "stdout",
     "output_type": "stream",
     "text": [
      "KNeighborsClassifier(n_neighbors=1)\n",
      "Test Accuracy (using knn.score()) for k = 1 is: 0.97\n",
      "Model's Predictive Accuracy for k = 1 is: 0.97 \n",
      "\n",
      "KNeighborsClassifier()\n",
      "Test Accuracy (using knn.score()) for k = 5 is: 0.97\n",
      "Model's Predictive Accuracy for k = 5 is: 0.97 \n",
      "\n"
     ]
    }
   ],
   "source": [
    "from sklearn.neighbors import KNeighborsClassifier\n",
    "from sklearn import metrics\n",
    "for k in [1,5]:\n",
    "    knn = KNeighborsClassifier(n_neighbors=k)\n",
    "    print(knn)\n",
    "    knn.fit(X_train, y_train)\n",
    "    y_pred = knn.predict(X_test)\n",
    "    print('Test Accuracy (using knn.score()) for k = {0} is: {1:0.2f}'.format(k, knn.score(X_test, y_test)))\n",
    "    print(\"Model's Predictive Accuracy for k = {0} is: {1:0.2f} \\n\".format(k, metrics.accuracy_score(y_test, y_pred)))"
   ]
  },
  {
   "cell_type": "markdown",
   "metadata": {},
   "source": [
    "# Final Thoughts"
   ]
  },
  {
   "cell_type": "markdown",
   "metadata": {},
   "source": [
    " - **The Training Accuracy** rises as the model complexity rises\n",
    " - **The Testing Accuracy** penalizes models that are too complex or not complex enough\n",
    " - For KNN models, complexity is determined by the **value of K** (lower value = more complex)\n",
    " - These classifiers can work in multiple classes, so dealing with a larger number of inputs in a model is straight forward"
   ]
  },
  {
   "cell_type": "markdown",
   "metadata": {},
   "source": [
    "# Exercises and Questions"
   ]
  },
  {
   "cell_type": "markdown",
   "metadata": {},
   "source": [
    "1."
   ]
  },
  {
   "cell_type": "code",
   "execution_count": 24,
   "metadata": {},
   "outputs": [
    {
     "name": "stdout",
     "output_type": "stream",
     "text": [
      "[1, 2, 3, 4, 5, 6, 7, 8, 9, 10, 11, 12, 13, 14, 15, 16, 17, 18, 19, 20, 21, 22, 23, 24, 25]\n",
      "[0.9736842105263158, 0.9736842105263158, 0.9736842105263158, 0.9736842105263158, 0.9736842105263158, 0.9473684210526315, 0.9473684210526315, 0.9473684210526315, 0.9473684210526315, 0.9210526315789473, 0.9473684210526315, 0.9473684210526315, 0.9473684210526315, 0.9473684210526315, 0.9473684210526315, 0.9210526315789473, 0.9210526315789473, 0.9210526315789473, 0.9210526315789473, 0.9210526315789473, 0.9473684210526315, 0.9473684210526315, 0.9473684210526315, 0.9210526315789473, 0.9210526315789473]\n"
     ]
    }
   ],
   "source": [
    "#Getting the Data\n",
    "k_range = []\n",
    "scores = []\n",
    "for k in range (1,26):\n",
    "    knn = KNeighborsClassifier(n_neighbors=k)\n",
    "    #print(knn)\n",
    "    knn.fit(X_train, y_train)\n",
    "    y_pred = knn.predict(X_test)\n",
    "    k_range.append(k)\n",
    "    scores.append(knn.score(X_test, y_test))\n",
    "print(k_range)\n",
    "print(scores)"
   ]
  },
  {
   "cell_type": "code",
   "execution_count": 25,
   "metadata": {},
   "outputs": [
    {
     "data": {
      "image/png": "[encoded data removed]",
      "text/plain": [
       "<Figure size 360x360 with 1 Axes>"
      ]
     },
     "metadata": {
      "needs_background": "light"
     },
     "output_type": "display_data"
    }
   ],
   "source": [
    "#Plotting the Data\n",
    "x = [k_range]\n",
    "y = [scores]\n",
    "fig = plt.figure(figsize=(5,5))\n",
    "plt.plot(k_range, scores)\n",
    "plt.xlabel('K Values for K-NN')\n",
    "plt.ylabel('Testing Accuracy')\n",
    "plt.title('Testing Accuracy vs. K Values for K-NN')\n",
    "plt.show()"
   ]
  },
  {
   "cell_type": "markdown",
   "metadata": {},
   "source": [
    "From the plot above, we can conclude that the the best K for our K-Nearest Neighbor classifiers can be anything from 1 to 4. After 4, the Testing Accuracy drops down to a little under 95% (about a 3% drop)."
   ]
  },
  {
   "cell_type": "markdown",
   "metadata": {},
   "source": [
    "2. There a few ways in which a tie can be broken. One of the ways is to decrease the value of k by 1 until the tie is officially broken. Also, another way to break a tie is to take a random vote instead of a majority vote. "
   ]
  },
  {
   "cell_type": "markdown",
   "metadata": {},
   "source": [
    "3. According to the SciKit-Learn website, weights are taken into consideration when breaking ties. That is to say that the more weight that a datapoint has on an unknown one, the tie will be broken in that classification's favor."
   ]
  },
  {
   "cell_type": "code",
   "execution_count": null,
   "metadata": {},
   "outputs": [],
   "source": []
  }
 ],
 "metadata": {
  "kernelspec": {
   "display_name": "Python 3",
   "language": "python",
   "name": "python3"
  },
  "language_info": {
   "codemirror_mode": {
    "name": "ipython",
    "version": 3
   },
   "file_extension": ".py",
   "mimetype": "text/x-python",
   "name": "python",
   "nbconvert_exporter": "python",
   "pygments_lexer": "ipython3",
   "version": "3.8.3"
  }
 },
 "nbformat": 4,
 "nbformat_minor": 4
}
